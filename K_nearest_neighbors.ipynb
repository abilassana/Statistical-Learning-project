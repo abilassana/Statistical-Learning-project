{
  "nbformat": 4,
  "nbformat_minor": 0,
  "metadata": {
    "colab": {
      "name": "K-nearest neighbors.ipynb",
      "provenance": [],
      "collapsed_sections": []
    },
    "kernelspec": {
      "name": "python3",
      "display_name": "Python 3"
    },
    "language_info": {
      "name": "python"
    }
  },
  "cells": [
    {
      "cell_type": "markdown",
      "source": [
        "K-nearest neighbors regression: the value of the neighbor with shortest distance instead of average of k neighbors."
      ],
      "metadata": {
        "id": "vDiPC__BArS6"
      }
    },
    {
      "cell_type": "code",
      "execution_count": 71,
      "metadata": {
        "id": "sTFRgocK6pNC"
      },
      "outputs": [],
      "source": [
        "import numpy as np\n",
        "import math\n",
        "import pandas as ps\n",
        "from sklearn import neighbors\n",
        "from sklearn.model_selection import train_test_split\n",
        "from sklearn.metrics import mean_squared_error, mean_absolute_error"
      ]
    },
    {
      "cell_type": "markdown",
      "source": [
        "Implementation of K-nearest neighbors regression from scratch"
      ],
      "metadata": {
        "id": "X0WHD8qKAwxL"
      }
    },
    {
      "cell_type": "code",
      "source": [
        "#define function for Euclidian distance\n",
        "def eucl_d(train_row,test_row,n):\n",
        "  d=0\n",
        "  for i in range(n-1):\n",
        "    d=d+(train_row[i]-test_row[i])**2\n",
        "  return math.sqrt(d)\n",
        "\n",
        "def k_neighbors(train_data,test_data,k):\n",
        "  d=list()\n",
        "  for i in range(train_data.shape[0]):\n",
        "    distance=eucl_d(train_data[i,:],test_data,train_data.shape[1])\n",
        "    d.append((train_data[i,:],distance))\n",
        "  d.sort(key=lambda t: t[1])\n",
        "  neighbors=list()\n",
        "  for i in range(k):\n",
        "    neighbors.append(d[i][0])\n",
        "  return np.array(neighbors)\n",
        "\n",
        "#prediction based on average of K neighbor values\n",
        "def predict_ave(train_data, test_row, k_value):\n",
        "  neighbors=k_neighbors(train_data,test_row,k_value)\n",
        "  ave=0\n",
        "  for i in range(k_value):\n",
        "    ave=ave+neighbors[i,-1]\n",
        "  return ave/k_value\n",
        "\n",
        "#function for multiple test data\n",
        "def predict_multi_ave(train_data,test_data,k):\n",
        "  y=np.zeros((test_data.shape[0],1))\n",
        "  for i in range(test_data.shape[0]):\n",
        "   y[i,0]=predict_ave(train_data,test_data[i,:],k)\n",
        "  return y"
      ],
      "metadata": {
        "id": "iM_BN3H56qmh"
      },
      "execution_count": 72,
      "outputs": []
    },
    {
      "cell_type": "markdown",
      "source": [
        "Implementation with \"nearest neighbor's value\""
      ],
      "metadata": {
        "id": "oD6sjGlnGtiA"
      }
    },
    {
      "cell_type": "code",
      "source": [
        "def predict_bestfit(train_data,test_row,k_value):\n",
        "  neighbors=k_neighbors(train_data,test_row,k_value)\n",
        "  s=list()\n",
        "  for i in range(k_value):\n",
        "    s.append(eucl_d(neighbors[i,:],test_row,neighbors.shape[1]))\n",
        "  minimum_d=min(s)\n",
        "  j=0\n",
        "  for i in range(k_value):\n",
        "    if minimum_d==s[i]:\n",
        "      j=i\n",
        "  return neighbors[j,-1]\n",
        "\n",
        "#function for multiple test data\n",
        "def predict_multi_fit(train_data,test_data,k):\n",
        "  y=np.zeros((test_data.shape[0],1))\n",
        "  for i in range(test_data.shape[0]):\n",
        "   y[i,0]=predict_bestfit(train_data,test_data[i,:],k)\n",
        "  return y"
      ],
      "metadata": {
        "id": "mypwuDgqG4St"
      },
      "execution_count": 73,
      "outputs": []
    },
    {
      "cell_type": "markdown",
      "source": [
        "Testing the model on datasets\n",
        "\n",
        "\n"
      ],
      "metadata": {
        "id": "uOiZJNbKIRkV"
      }
    },
    {
      "cell_type": "markdown",
      "source": [
        "1.Diabetes dataset"
      ],
      "metadata": {
        "id": "XbrPtBsyiXeK"
      }
    },
    {
      "cell_type": "code",
      "source": [
        "from sklearn.datasets import load_diabetes\n",
        "X,y=load_diabetes(return_X_y=True)\n",
        "X_data, X_test, y_data, y_test = train_test_split(X,y, test_size=0.3, random_state=11)\n",
        "Data=np.zeros((X_data.shape[0],X_data.shape[1]+1))\n",
        "Data[:,-1]=y_data\n",
        "Data[:,:-1]=X_data"
      ],
      "metadata": {
        "id": "oB4eBiuqIdDp"
      },
      "execution_count": 74,
      "outputs": []
    },
    {
      "cell_type": "code",
      "source": [
        "#usual Knn regression\n",
        "a=predict_multi_ave(Data,X_test,20)\n",
        "\n",
        "#comparing with sklearn built-in function\n",
        "neigh=neighbors.KNeighborsRegressor(n_neighbors=20)\n",
        "neigh.fit(X_data,y_data)\n",
        "b=neigh.predict(X_test)\n",
        "print(mean_squared_error(a,b))\n",
        "print(mean_absolute_error(a,b))\n",
        "\n",
        "#zero error confirms the reliability of handwritten implementation of Knn"
      ],
      "metadata": {
        "colab": {
          "base_uri": "https://localhost:8080/"
        },
        "id": "mIORT_zNdZ8r",
        "outputId": "bfbc8a31-4bde-469b-c83d-1fabdf731494"
      },
      "execution_count": 75,
      "outputs": [
        {
          "output_type": "stream",
          "name": "stdout",
          "text": [
            "0.0\n",
            "0.0\n"
          ]
        }
      ]
    },
    {
      "cell_type": "code",
      "source": [
        "#modified Knn regression\n",
        "mod=predict_multi_fit(Data,X_test,20)"
      ],
      "metadata": {
        "id": "dlNcAgUhfAj3"
      },
      "execution_count": 76,
      "outputs": []
    },
    {
      "cell_type": "code",
      "source": [
        "#comparing error of two\n",
        "print('Knn regression error:',mean_absolute_error(a,y_test))\n",
        "print('Knn sklearn regression error:',mean_absolute_error(b,y_test))\n",
        "print('Modified Knn regression error:',mean_absolute_error(mod,y_test))"
      ],
      "metadata": {
        "colab": {
          "base_uri": "https://localhost:8080/"
        },
        "id": "1w5UcAwxd4Di",
        "outputId": "7e744994-21c8-442c-a392-769e96b56aeb"
      },
      "execution_count": 80,
      "outputs": [
        {
          "output_type": "stream",
          "name": "stdout",
          "text": [
            "Knn regression error: 51.0093984962406\n",
            "Knn sklearn regression error: 51.0093984962406\n",
            "Modified Knn regression error: 63.41353383458647\n"
          ]
        }
      ]
    },
    {
      "cell_type": "markdown",
      "source": [
        "2.Dataset through sklearn.make_regression"
      ],
      "metadata": {
        "id": "yvfAZOK1i18p"
      }
    },
    {
      "cell_type": "code",
      "source": [
        "from sklearn.datasets import make_regression\n",
        "#generate regression data with 300 samples and 8 features\n",
        "A, c = make_regression(300,8)\n",
        "A_data, A_test,c_data,c_test = train_test_split(A,c,test_size=0.3,random_state=11)\n",
        "Aadata=np.zeros((A_data.shape[0],A_data.shape[1]+1))\n",
        "Aadata[:,-1]=c_data\n",
        "Aadata[:,:-1]=A_data\n",
        "\n",
        "#sklearn model\n",
        "neighb=neighbors.KNeighborsRegressor(n_neighbors=15)\n",
        "neighb.fit(A_data,c_data)\n",
        "Knn1=neighb.predict(A_test)\n",
        "Knn2=predict_multi_ave(Aadata,A_test,15)\n",
        "ModKnn2=predict_multi_fit(Aadata,A_test,15)"
      ],
      "metadata": {
        "id": "1k7C3Rjnip8M"
      },
      "execution_count": 82,
      "outputs": []
    },
    {
      "cell_type": "code",
      "source": [
        "#comparing error of two\n",
        "print('Knn regression error:',mean_absolute_error(Knn2,c_test))\n",
        "print('Knn sklearn regression error:',mean_absolute_error(Knn1,c_test))\n",
        "print('Modified Knn regression error:',mean_absolute_error(ModKnn2,c_test))"
      ],
      "metadata": {
        "colab": {
          "base_uri": "https://localhost:8080/"
        },
        "id": "wCVkpKczjq8H",
        "outputId": "91e184b1-ed74-4ba3-c6a3-891006bde2fd"
      },
      "execution_count": 84,
      "outputs": [
        {
          "output_type": "stream",
          "name": "stdout",
          "text": [
            "Knn regression error: 38.61688624660365\n",
            "Knn sklearn regression error: 38.61688624660365\n",
            "Modified Knn regression error: 42.05494003971795\n"
          ]
        }
      ]
    },
    {
      "cell_type": "code",
      "source": [
        ""
      ],
      "metadata": {
        "id": "etyC3DqcwnCo"
      },
      "execution_count": null,
      "outputs": []
    }
  ]
}